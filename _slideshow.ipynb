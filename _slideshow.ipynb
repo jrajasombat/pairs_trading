{
 "cells": [
  {
   "cell_type": "markdown",
   "metadata": {
    "slideshow": {
     "slide_type": "slide"
    }
   },
   "source": [
    "# Pairs Trading: A Statistical Arbitrage Strategy"
   ]
  },
  {
   "cell_type": "markdown",
   "metadata": {
    "slideshow": {
     "slide_type": "slide"
    }
   },
   "source": [
    "# Outline\n",
    "- Introduction\n",
    "- Pairs trading: What is it?\n",
    "- Problem statement\n",
    "- Proposed solution\n",
    "    - Gather data (API and web scraping)\n",
    "    - Unsupervised clustering (K-means)\n",
    "    - Evaluate pairs (time series analysis: cointegration)\n",
    "    - Trading example\n",
    "- Final thoughts"
   ]
  },
  {
   "cell_type": "markdown",
   "metadata": {
    "slideshow": {
     "slide_type": "slide"
    }
   },
   "source": [
    "# Introduction\n",
    "- Over 15 years of experience in the financial markets (New York, Toronto, Victoria)\n",
    "    - Risk management and performance measurement for the buy-side (hedge funds, pension funds, endowments, etc.)\n",
    "- Bachelors degree from UBC in Vancouver\n",
    "- MBA from Columbia University in New York City\n",
    "\n",
    "<img src = '00_schools.png' width='150'>\n",
    "\n",
    "\n",
    "- Why Lighthouse Labs?\n",
    "    - After 15 years in finance, I wanted to apply new ideas to what I was doing: machine learning and data science\n",
    "    - Since I still have a passion for finance, I wanted to learn how to apply machine learning and data science to financial modeling"
   ]
  },
  {
   "cell_type": "markdown",
   "metadata": {
    "slideshow": {
     "slide_type": "slide"
    }
   },
   "source": [
    "# Pairs trading: Why?"
   ]
  },
  {
   "cell_type": "markdown",
   "metadata": {
    "slideshow": {
     "slide_type": "fragment"
    }
   },
   "source": [
    "- I want to demystify this strategy\n",
    "- It has had a long and successful history on Wall Street, but it has long been in the domain of quants at major institutional firms (Morgan Stanley, DE Shaw, LTCM)\n",
    "\n",
    "- My idea is to implement this strategy using information that is freely available to anyone and with tools that anyone can install on their machine (Python, Jupyter Lab, etc.)"
   ]
  },
  {
   "cell_type": "markdown",
   "metadata": {
    "slideshow": {
     "slide_type": "subslide"
    }
   },
   "source": [
    "# Pairs trading: What is it?\n",
    "\n",
    "### Basic idea: \n",
    "- Select two stocks that move similarly > Find when they diverge > Sell overvalued stock, buy undervalued stock > Exit when they converge again and pocket a profit\n",
    "- The idea is to capture absolute returns regardless of market fluctuations\n",
    "<img src = '00.png'>"
   ]
  },
  {
   "cell_type": "markdown",
   "metadata": {
    "slideshow": {
     "slide_type": "slide"
    }
   },
   "source": [
    "# Problem statement\n",
    "- __The major problem is to identify appropriate pairs of stocks to trade__\n",
    "- There are 1500 stocks that are liquidly traded on the North American stock markets\n",
    "    - __1,124,250__ possible pairs to evaluate\n",
    "- For a major index like the S&P 500\n",
    "    - __127,260__ possible pairs to evaluate\n",
    "- And for an even larger major index like the Russell 3000\n",
    "    - __4,498,500__ possible pairs to evaulate"
   ]
  },
  {
   "cell_type": "markdown",
   "metadata": {
    "slideshow": {
     "slide_type": "fragment"
    }
   },
   "source": [
    "- __We need a way to narrow down the number of pairs__\n",
    "- __We also need to evaluate each of reduced number of pairs__"
   ]
  },
  {
   "cell_type": "markdown",
   "metadata": {
    "slideshow": {
     "slide_type": "slide"
    }
   },
   "source": [
    "# Proposed solution"
   ]
  },
  {
   "cell_type": "markdown",
   "metadata": {
    "slideshow": {
     "slide_type": "fragment"
    }
   },
   "source": [
    "- Use a machine learning methodology to cluster (or group) a bunch of stocks together\n",
    "    - This clustering will be based on the companies' details (sector, financial ratios) and daily returns"
   ]
  },
  {
   "cell_type": "markdown",
   "metadata": {
    "slideshow": {
     "slide_type": "fragment"
    }
   },
   "source": [
    "- For each cluster, identify the pairs that are within the same cluster"
   ]
  },
  {
   "cell_type": "markdown",
   "metadata": {
    "slideshow": {
     "slide_type": "fragment"
    }
   },
   "source": [
    "- For each pair in the cluster, determine if it is appropriate for pairs trading"
   ]
  },
  {
   "cell_type": "markdown",
   "metadata": {
    "slideshow": {
     "slide_type": "fragment"
    }
   },
   "source": [
    "- Companies there are left unclustered are outliers and will __not__ be considered for pairs trading"
   ]
  },
  {
   "cell_type": "markdown",
   "metadata": {
    "slideshow": {
     "slide_type": "fragment"
    }
   },
   "source": [
    "- The clustering will be based on 2016 - 2018, so we will test a pairs trading strategy in 2019"
   ]
  },
  {
   "cell_type": "markdown",
   "metadata": {
    "slideshow": {
     "slide_type": "slide"
    }
   },
   "source": [
    "# Gathering data\n",
    "We are going to use the S&P 500 as our universe of stocks"
   ]
  },
  {
   "cell_type": "markdown",
   "metadata": {
    "slideshow": {
     "slide_type": "fragment"
    }
   },
   "source": [
    "- Scrape Wikipedia to get the tickers, sectors, and subsectors of every company in the S&P 500\n",
    "<img src = '01.png'>"
   ]
  },
  {
   "cell_type": "markdown",
   "metadata": {
    "slideshow": {
     "slide_type": "subslide"
    }
   },
   "source": [
    "# Gathering data\n",
    "- Scrape Yahoo to get balance sheet, income statement, and cashflow statement\n",
    "- We can then compute financial ratios that will indicate financial health and profitability\n",
    "<img src = '02.png' width='750'>"
   ]
  },
  {
   "cell_type": "markdown",
   "metadata": {
    "slideshow": {
     "slide_type": "subslide"
    }
   },
   "source": [
    "# Gathering data\n",
    "- Call the free Alpha Vantage API to get daily prices for each company\n",
    "- From these prices, we can compute the daily returns\n",
    "\n",
    "<img src = '03.png'>"
   ]
  },
  {
   "cell_type": "markdown",
   "metadata": {
    "slideshow": {
     "slide_type": "subslide"
    }
   },
   "source": [
    "# Gathering data\n",
    "\n",
    "- We now have our data to feed into the machine learning model: \n",
    "    - Daily returns\n",
    "    - Sector information\n",
    "    - Financial ratios\n",
    "\n",
    "\n",
    "\n",
    "- The idea is that companies with similar information will make good candidates for pairing"
   ]
  },
  {
   "cell_type": "markdown",
   "metadata": {
    "slideshow": {
     "slide_type": "slide"
    }
   },
   "source": [
    "# Clustering: Preprocessing\n",
    "Before we start clustering the companies, we need to preprocess the data a little"
   ]
  },
  {
   "cell_type": "markdown",
   "metadata": {
    "slideshow": {
     "slide_type": "fragment"
    }
   },
   "source": [
    "- Reduce the number of daily return dimensions using principal component analysis\n",
    "    - Reduced 754 datapoints to 170 principal components for each company"
   ]
  },
  {
   "cell_type": "markdown",
   "metadata": {
    "slideshow": {
     "slide_type": "fragment"
    }
   },
   "source": [
    "- Append financial ratios to the dataset"
   ]
  },
  {
   "cell_type": "markdown",
   "metadata": {
    "slideshow": {
     "slide_type": "fragment"
    }
   },
   "source": [
    "- One-hot encode the sectors and append to the dataset"
   ]
  },
  {
   "cell_type": "markdown",
   "metadata": {
    "slideshow": {
     "slide_type": "fragment"
    }
   },
   "source": [
    "Finaly, we can feed the combined dataset into a clustering method: K-means clustering"
   ]
  },
  {
   "cell_type": "markdown",
   "metadata": {
    "slideshow": {
     "slide_type": "subslide"
    }
   },
   "source": [
    "# Clustering: Results"
   ]
  },
  {
   "cell_type": "markdown",
   "metadata": {
    "slideshow": {
     "slide_type": "fragment"
    }
   },
   "source": [
    "K-means clustering discovered __53__ clusters\n",
    "\n",
    "<img src = '04.png'>"
   ]
  },
  {
   "cell_type": "markdown",
   "metadata": {
    "slideshow": {
     "slide_type": "subslide"
    }
   },
   "source": [
    "# Clustering: Results\n",
    "\n",
    "\n",
    "<img src = '05.png' width='400'>"
   ]
  },
  {
   "cell_type": "markdown",
   "metadata": {
    "slideshow": {
     "slide_type": "subslide"
    }
   },
   "source": [
    "# Clustering: Results\n",
    "Inspect one of the clusters\n",
    "\n",
    "<img src = '06.png'>"
   ]
  },
  {
   "cell_type": "markdown",
   "metadata": {
    "slideshow": {
     "slide_type": "subslide"
    }
   },
   "source": [
    "# Clustering: Results\n",
    "\n",
    "Sample some random names\n",
    "\n",
    "The tickers clustered with __NOC (Northrop Grumman)__ are: \n",
    "- __LMT__: Lockheed Martin Corp.\n",
    "- __NOC__: Northrop Grumman\n",
    "- __TXT__: Textron Inc.\n",
    "\n",
    "The tickers clustered with __MS (Morgan Stanley)__ are: \n",
    "- __GS__: Goldman Sachs Group\n",
    "- __MS__: Morgan Stanley\n",
    "- __UNP__: Union Pacific Corp"
   ]
  },
  {
   "cell_type": "markdown",
   "metadata": {
    "slideshow": {
     "slide_type": "subslide"
    }
   },
   "source": [
    "# Clustering: Results\n",
    "\n",
    "The tickers clustered with __BAC (Bank of America Corp)__ are: \n",
    "- __BAC__: Bank of America Corp\n",
    "- __CSCO__: Cisco Systems\n",
    "- __C__: Citigroup Inc.\n",
    "- __JPM__: JPMorgan Chase & Co.\n",
    "- __NTRS__: Northern Trust Corp.\n",
    "- __OXY__: Occidental Petroleum\n",
    "- __SLB__: Schlumberger Ltd.\n",
    "- __WFC__: Wells Fargo"
   ]
  },
  {
   "cell_type": "markdown",
   "metadata": {
    "slideshow": {
     "slide_type": "slide"
    }
   },
   "source": [
    "# Evaluating candidate pairs for trading suitability"
   ]
  },
  {
   "cell_type": "markdown",
   "metadata": {
    "slideshow": {
     "slide_type": "fragment"
    }
   },
   "source": [
    "Loop through all __856__ candidate pairs and determine which ones are suitable for pairs trading"
   ]
  },
  {
   "cell_type": "markdown",
   "metadata": {
    "slideshow": {
     "slide_type": "fragment"
    }
   },
   "source": [
    "First inclination is to use the __correlation coefficient__ to measure the strength of the trading relationship..."
   ]
  },
  {
   "cell_type": "markdown",
   "metadata": {
    "slideshow": {
     "slide_type": "fragment"
    }
   },
   "source": [
    "...but correlation does not tell us if the spread between the two stocks is stationary or mean-reverting"
   ]
  },
  {
   "cell_type": "markdown",
   "metadata": {
    "slideshow": {
     "slide_type": "fragment"
    }
   },
   "source": [
    "Instead we are going to use a concept called __cointegration__."
   ]
  },
  {
   "cell_type": "markdown",
   "metadata": {
    "slideshow": {
     "slide_type": "fragment"
    }
   },
   "source": [
    "__Cointegration__ measures whether the spread between two stocks through history is stationary, where spread is defined as:\n",
    "`spread = ln(stock A) - n x ln(stock B)`\n",
    "\n",
    "- 'n' is a hedge ratio and is determined by a linear regression applied to the historical prices of stock A and stock B (i.e., how much to buy of stock B per stock A)"
   ]
  },
  {
   "cell_type": "markdown",
   "metadata": {
    "slideshow": {
     "slide_type": "subslide"
    }
   },
   "source": [
    "# Evaluating candidate pairs for trading suitability\n",
    "- Use the Augmented Engle-Granger test for cointegration, which will return a p-value.\n",
    "- I decided to use a stringent significance value for the test: Suitable pairs must have p-values less than __0.01__"
   ]
  },
  {
   "cell_type": "markdown",
   "metadata": {
    "slideshow": {
     "slide_type": "fragment"
    }
   },
   "source": [
    "- This resulted in __19__ identified pairs. There are __27__ unique tickers in those pairs.\n",
    "\n",
    "[('AME', 'HON'),\n",
    " ('DOV', 'HON'),\n",
    " ('DOV', 'SNPS'),\n",
    " ('ETN', 'RTX'),\n",
    " ('EMR', 'HD'),\n",
    " ('EMR', 'RTX'),\n",
    " ('AWK', 'WEC'),\n",
    " ('GL', 'L'),\n",
    " ('L', 'RJF'),\n",
    " ('MMC', 'SRE'),\n",
    " ('MMC', 'WLTW'),\n",
    " ('ORCL', 'SRE'),\n",
    " ('ORCL', 'WLTW'),\n",
    " ('SRE', 'WLTW'),\n",
    " ('CMA', 'RF'),\n",
    " ('MXIM', 'TXN'),\n",
    " ('PNR', 'SWK'),\n",
    " ('NWSA', 'NWS'),\n",
    " ('IP', 'WRK')]"
   ]
  },
  {
   "cell_type": "markdown",
   "metadata": {
    "slideshow": {
     "slide_type": "subslide"
    }
   },
   "source": [
    "# Evaluating candidate pairs for trading suitability\n",
    "# Recap of where we are\n",
    "<img src = '07.png' width='400'>"
   ]
  },
  {
   "cell_type": "markdown",
   "metadata": {
    "slideshow": {
     "slide_type": "slide"
    }
   },
   "source": [
    "# Trading example"
   ]
  },
  {
   "cell_type": "markdown",
   "metadata": {
    "slideshow": {
     "slide_type": "fragment"
    }
   },
   "source": [
    "__PNR__ and __SWK__ \n",
    "-  __Pentair plc__: Industrials (Industrial Machinery)\n",
    "-  __Stanley Black & Decker__: Industrials (Industrial Machinery)\n",
    "\n",
    "<img src = '09.png'>"
   ]
  },
  {
   "cell_type": "markdown",
   "metadata": {
    "slideshow": {
     "slide_type": "slide"
    }
   },
   "source": [
    "# Final thoughts\n",
    "- __Challenges__:\n",
    "    - Need to space out my calls to Yahoo! Finance and Alpha Vantage API\n",
    "        - 24 hours to get pricing information\n",
    "        - 5 hours to get financial statements\n",
    "    - Need to find an appropriate 'k' for K-means clustering\n",
    "    \n",
    "    \n",
    "- __Future considerations__:\n",
    "    - Use a larger universe of stocks and larger set of indicators (more financial ratios)\n",
    "    - Perhaps shorten the window of data used for clustering\n",
    "    - Experiment with other clustering techniques (i.e., DBSCAN, hierarchical)\n",
    "    - Loosen the significance of the Augmented Engle-Granger test for cointegration to capture more pairs\n",
    "    - Do a portfolio analysis on many pairs trades over many business cycles to see if absolute returns are achieved over different market fluctuations"
   ]
  },
  {
   "cell_type": "markdown",
   "metadata": {
    "slideshow": {
     "slide_type": "slide"
    }
   },
   "source": [
    "# Thank you"
   ]
  }
 ],
 "metadata": {
  "kernelspec": {
   "display_name": "Python 3",
   "language": "python",
   "name": "python3"
  },
  "language_info": {
   "codemirror_mode": {
    "name": "ipython",
    "version": 3
   },
   "file_extension": ".py",
   "mimetype": "text/x-python",
   "name": "python",
   "nbconvert_exporter": "python",
   "pygments_lexer": "ipython3",
   "version": "3.8.3"
  }
 },
 "nbformat": 4,
 "nbformat_minor": 4
}
