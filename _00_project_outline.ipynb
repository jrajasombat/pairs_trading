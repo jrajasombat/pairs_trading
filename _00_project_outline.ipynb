{
 "cells": [
  {
   "cell_type": "markdown",
   "metadata": {},
   "source": [
    "# Pairs Trading: A Statistical Arbitrage Strategy"
   ]
  },
  {
   "cell_type": "markdown",
   "metadata": {},
   "source": [
    "## Basic Idea\n",
    "- Select two stocks which move similarly.\n",
    "- Find where the price diverges.\n",
    "- Sell the high priced stock and buy the low priced stock.\n",
    "- The idea is to capture absolute return regardless of market fluctuations."
   ]
  },
  {
   "cell_type": "markdown",
   "metadata": {},
   "source": [
    "### "
   ]
  },
  {
   "cell_type": "markdown",
   "metadata": {},
   "source": [
    "## Getting data"
   ]
  },
  {
   "cell_type": "markdown",
   "metadata": {},
   "source": [
    "__Bootcamp concept: Using APIs__\n",
    "- I will need to get daily closing prices for a universe of stocks --> Alpha Vantage\n",
    "\n",
    "__Bootcamp concept: Web Scraping__\n",
    "- I will need to include other company information (sector, profitability, debt ratios, etc.) --> Yahoo! Finance & Wikipedia"
   ]
  },
  {
   "cell_type": "markdown",
   "metadata": {},
   "source": [
    "### "
   ]
  },
  {
   "cell_type": "markdown",
   "metadata": {},
   "source": [
    "## Finding suitable pairs \n",
    "(January 4, 2016 - December 31, 2018)"
   ]
  },
  {
   "cell_type": "markdown",
   "metadata": {},
   "source": [
    "__Bootcamp concept: Clustering__\n",
    "- Use a clustering technique on the universe of stocks\n",
    "    - Possibly K-means, but possibly DBSCAN or hierarchical\n",
    "    - Use PCA before the clustering to reduce dimensionality\n",
    "    - Dimensions will be price return each day, sector, market cap, etc.\n",
    "    \n",
    "__Bootcamp concept: Time Series Analysis__\n",
    "- Find suitable pairs in each cluster\n",
    "    - Need to determine that each pair moves similarly\n",
    "        - Calculate the cointegration of each pair\n",
    "        - Find out if the spread of each pair is stationary"
   ]
  },
  {
   "cell_type": "markdown",
   "metadata": {},
   "source": [
    "### "
   ]
  },
  {
   "cell_type": "markdown",
   "metadata": {},
   "source": [
    "## Mock trading over a year \n",
    "(January 2, 2019 - December 31, 2019)"
   ]
  },
  {
   "cell_type": "markdown",
   "metadata": {},
   "source": [
    "__Bootcamp concept: Visualization__\n",
    "- Identify entry and exit points in the strategy for a pair over a year"
   ]
  },
  {
   "cell_type": "markdown",
   "metadata": {},
   "source": [
    "### "
   ]
  }
 ],
 "metadata": {
  "kernelspec": {
   "display_name": "Python 3",
   "language": "python",
   "name": "python3"
  },
  "language_info": {
   "codemirror_mode": {
    "name": "ipython",
    "version": 3
   },
   "file_extension": ".py",
   "mimetype": "text/x-python",
   "name": "python",
   "nbconvert_exporter": "python",
   "pygments_lexer": "ipython3",
   "version": "3.8.3"
  }
 },
 "nbformat": 4,
 "nbformat_minor": 4
}
