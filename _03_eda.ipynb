{
 "cells": [
  {
   "cell_type": "markdown",
   "metadata": {},
   "source": [
    "# Exploratory data analysis (EDA) "
   ]
  },
  {
   "cell_type": "code",
   "execution_count": 141,
   "metadata": {},
   "outputs": [],
   "source": [
    "import pandas as pd\n",
    "import seaborn as sns\n",
    "import matplotlib.pyplot as plt"
   ]
  },
  {
   "cell_type": "markdown",
   "metadata": {},
   "source": [
    "### "
   ]
  },
  {
   "cell_type": "markdown",
   "metadata": {},
   "source": [
    "## Merge financial ratios with sectors into one DataFrame"
   ]
  },
  {
   "cell_type": "code",
   "execution_count": 22,
   "metadata": {},
   "outputs": [],
   "source": [
    "financial_ratios = pd.read_csv('financial_ratios.csv')"
   ]
  },
  {
   "cell_type": "code",
   "execution_count": 23,
   "metadata": {},
   "outputs": [],
   "source": [
    "sectors = pd.read_csv('sectors.csv')"
   ]
  },
  {
   "cell_type": "code",
   "execution_count": 24,
   "metadata": {},
   "outputs": [],
   "source": [
    "financial_ratios.set_index('tickers', inplace = True)\n",
    "sectors.set_index('Symbol', inplace = True)"
   ]
  },
  {
   "cell_type": "code",
   "execution_count": 34,
   "metadata": {},
   "outputs": [],
   "source": [
    "sectors.drop('Unnamed: 0', axis = 1, inplace = True)"
   ]
  },
  {
   "cell_type": "code",
   "execution_count": 35,
   "metadata": {},
   "outputs": [],
   "source": [
    "sectors.rename(columns = {'Symbol':'tickers'}, inplace = True)"
   ]
  },
  {
   "cell_type": "code",
   "execution_count": 38,
   "metadata": {},
   "outputs": [],
   "source": [
    "company_details = sectors.join(financial_ratios)"
   ]
  },
  {
   "cell_type": "code",
   "execution_count": 39,
   "metadata": {},
   "outputs": [
    {
     "data": {
      "text/html": [
       "<div>\n",
       "<style scoped>\n",
       "    .dataframe tbody tr th:only-of-type {\n",
       "        vertical-align: middle;\n",
       "    }\n",
       "\n",
       "    .dataframe tbody tr th {\n",
       "        vertical-align: top;\n",
       "    }\n",
       "\n",
       "    .dataframe thead th {\n",
       "        text-align: right;\n",
       "    }\n",
       "</style>\n",
       "<table border=\"1\" class=\"dataframe\">\n",
       "  <thead>\n",
       "    <tr style=\"text-align: right;\">\n",
       "      <th></th>\n",
       "      <th>GICS Sector</th>\n",
       "      <th>GICS Sub-Industry</th>\n",
       "      <th>debt_to_assets</th>\n",
       "      <th>debt_to_equity</th>\n",
       "      <th>profit_margin</th>\n",
       "    </tr>\n",
       "    <tr>\n",
       "      <th>Symbol</th>\n",
       "      <th></th>\n",
       "      <th></th>\n",
       "      <th></th>\n",
       "      <th></th>\n",
       "      <th></th>\n",
       "    </tr>\n",
       "  </thead>\n",
       "  <tbody>\n",
       "    <tr>\n",
       "      <th>MMM</th>\n",
       "      <td>Industrials</td>\n",
       "      <td>Industrial Conglomerates</td>\n",
       "      <td>0.476455</td>\n",
       "      <td>2.114479</td>\n",
       "      <td>0.156534</td>\n",
       "    </tr>\n",
       "    <tr>\n",
       "      <th>ABT</th>\n",
       "      <td>Health Care</td>\n",
       "      <td>Health Care Equipment</td>\n",
       "      <td>0.278315</td>\n",
       "      <td>0.607759</td>\n",
       "      <td>0.104963</td>\n",
       "    </tr>\n",
       "    <tr>\n",
       "      <th>ABBV</th>\n",
       "      <td>Health Care</td>\n",
       "      <td>Pharmaceuticals</td>\n",
       "      <td>0.748785</td>\n",
       "      <td>8.165443</td>\n",
       "      <td>0.247702</td>\n",
       "    </tr>\n",
       "    <tr>\n",
       "      <th>ABMD</th>\n",
       "      <td>Health Care</td>\n",
       "      <td>Health Care Equipment</td>\n",
       "      <td>0.000000</td>\n",
       "      <td>0.000000</td>\n",
       "      <td>0.258846</td>\n",
       "    </tr>\n",
       "    <tr>\n",
       "      <th>ACN</th>\n",
       "      <td>Information Technology</td>\n",
       "      <td>IT Consulting &amp; Other Services</td>\n",
       "      <td>0.094003</td>\n",
       "      <td>0.205024</td>\n",
       "      <td>0.115231</td>\n",
       "    </tr>\n",
       "    <tr>\n",
       "      <th>...</th>\n",
       "      <td>...</td>\n",
       "      <td>...</td>\n",
       "      <td>...</td>\n",
       "      <td>...</td>\n",
       "      <td>...</td>\n",
       "    </tr>\n",
       "    <tr>\n",
       "      <th>YUM</th>\n",
       "      <td>Consumer Discretionary</td>\n",
       "      <td>Restaurants</td>\n",
       "      <td>2.154273</td>\n",
       "      <td>1.405813</td>\n",
       "      <td>0.189184</td>\n",
       "    </tr>\n",
       "    <tr>\n",
       "      <th>ZBRA</th>\n",
       "      <td>Information Technology</td>\n",
       "      <td>Electronic Equipment &amp; Instruments</td>\n",
       "      <td>0.298450</td>\n",
       "      <td>0.764546</td>\n",
       "      <td>0.109418</td>\n",
       "    </tr>\n",
       "    <tr>\n",
       "      <th>ZBH</th>\n",
       "      <td>Health Care</td>\n",
       "      <td>Health Care Equipment</td>\n",
       "      <td>0.333419</td>\n",
       "      <td>0.663136</td>\n",
       "      <td>0.048392</td>\n",
       "    </tr>\n",
       "    <tr>\n",
       "      <th>ZION</th>\n",
       "      <td>Financials</td>\n",
       "      <td>Regional Banks</td>\n",
       "      <td>0.039366</td>\n",
       "      <td>0.401208</td>\n",
       "      <td>0.157328</td>\n",
       "    </tr>\n",
       "    <tr>\n",
       "      <th>ZTS</th>\n",
       "      <td>Health Care</td>\n",
       "      <td>Pharmaceuticals</td>\n",
       "      <td>0.572629</td>\n",
       "      <td>2.441285</td>\n",
       "      <td>0.254204</td>\n",
       "    </tr>\n",
       "  </tbody>\n",
       "</table>\n",
       "<p>505 rows × 5 columns</p>\n",
       "</div>"
      ],
      "text/plain": [
       "                   GICS Sector                   GICS Sub-Industry  \\\n",
       "Symbol                                                               \n",
       "MMM                Industrials            Industrial Conglomerates   \n",
       "ABT                Health Care               Health Care Equipment   \n",
       "ABBV               Health Care                     Pharmaceuticals   \n",
       "ABMD               Health Care               Health Care Equipment   \n",
       "ACN     Information Technology      IT Consulting & Other Services   \n",
       "...                        ...                                 ...   \n",
       "YUM     Consumer Discretionary                         Restaurants   \n",
       "ZBRA    Information Technology  Electronic Equipment & Instruments   \n",
       "ZBH                Health Care               Health Care Equipment   \n",
       "ZION                Financials                      Regional Banks   \n",
       "ZTS                Health Care                     Pharmaceuticals   \n",
       "\n",
       "        debt_to_assets  debt_to_equity  profit_margin  \n",
       "Symbol                                                 \n",
       "MMM           0.476455        2.114479       0.156534  \n",
       "ABT           0.278315        0.607759       0.104963  \n",
       "ABBV          0.748785        8.165443       0.247702  \n",
       "ABMD          0.000000        0.000000       0.258846  \n",
       "ACN           0.094003        0.205024       0.115231  \n",
       "...                ...             ...            ...  \n",
       "YUM           2.154273        1.405813       0.189184  \n",
       "ZBRA          0.298450        0.764546       0.109418  \n",
       "ZBH           0.333419        0.663136       0.048392  \n",
       "ZION          0.039366        0.401208       0.157328  \n",
       "ZTS           0.572629        2.441285       0.254204  \n",
       "\n",
       "[505 rows x 5 columns]"
      ]
     },
     "execution_count": 39,
     "metadata": {},
     "output_type": "execute_result"
    }
   ],
   "source": [
    "company_details"
   ]
  },
  {
   "cell_type": "markdown",
   "metadata": {},
   "source": [
    "### "
   ]
  },
  {
   "cell_type": "markdown",
   "metadata": {},
   "source": [
    "## Compute daily returns from pricing information"
   ]
  },
  {
   "cell_type": "code",
   "execution_count": 78,
   "metadata": {},
   "outputs": [],
   "source": [
    "company_prices = pd.read_csv('sp500_2010_2019.csv')"
   ]
  },
  {
   "cell_type": "code",
   "execution_count": 79,
   "metadata": {},
   "outputs": [],
   "source": [
    "company_prices.rename(columns = {'Unnamed: 0':'date'}, inplace = True)"
   ]
  },
  {
   "cell_type": "code",
   "execution_count": 80,
   "metadata": {},
   "outputs": [],
   "source": [
    "company_prices.set_index('date', inplace = True)"
   ]
  },
  {
   "cell_type": "code",
   "execution_count": 81,
   "metadata": {},
   "outputs": [],
   "source": [
    "company_returns_all = company_prices.pct_change()"
   ]
  },
  {
   "cell_type": "code",
   "execution_count": 82,
   "metadata": {},
   "outputs": [
    {
     "data": {
      "text/html": [
       "<div>\n",
       "<style scoped>\n",
       "    .dataframe tbody tr th:only-of-type {\n",
       "        vertical-align: middle;\n",
       "    }\n",
       "\n",
       "    .dataframe tbody tr th {\n",
       "        vertical-align: top;\n",
       "    }\n",
       "\n",
       "    .dataframe thead th {\n",
       "        text-align: right;\n",
       "    }\n",
       "</style>\n",
       "<table border=\"1\" class=\"dataframe\">\n",
       "  <thead>\n",
       "    <tr style=\"text-align: right;\">\n",
       "      <th></th>\n",
       "      <th>MMM</th>\n",
       "      <th>ABT</th>\n",
       "      <th>ABBV</th>\n",
       "      <th>ABMD</th>\n",
       "      <th>ACN</th>\n",
       "      <th>ATVI</th>\n",
       "      <th>ADBE</th>\n",
       "      <th>AMD</th>\n",
       "      <th>AAP</th>\n",
       "      <th>AES</th>\n",
       "      <th>...</th>\n",
       "      <th>WYNN</th>\n",
       "      <th>XEL</th>\n",
       "      <th>XRX</th>\n",
       "      <th>XLNX</th>\n",
       "      <th>XYL</th>\n",
       "      <th>YUM</th>\n",
       "      <th>ZBRA</th>\n",
       "      <th>ZBH</th>\n",
       "      <th>ZION</th>\n",
       "      <th>ZTS</th>\n",
       "    </tr>\n",
       "    <tr>\n",
       "      <th>date</th>\n",
       "      <th></th>\n",
       "      <th></th>\n",
       "      <th></th>\n",
       "      <th></th>\n",
       "      <th></th>\n",
       "      <th></th>\n",
       "      <th></th>\n",
       "      <th></th>\n",
       "      <th></th>\n",
       "      <th></th>\n",
       "      <th></th>\n",
       "      <th></th>\n",
       "      <th></th>\n",
       "      <th></th>\n",
       "      <th></th>\n",
       "      <th></th>\n",
       "      <th></th>\n",
       "      <th></th>\n",
       "      <th></th>\n",
       "      <th></th>\n",
       "      <th></th>\n",
       "    </tr>\n",
       "  </thead>\n",
       "  <tbody>\n",
       "    <tr>\n",
       "      <th>2010-01-04</th>\n",
       "      <td>NaN</td>\n",
       "      <td>NaN</td>\n",
       "      <td>NaN</td>\n",
       "      <td>NaN</td>\n",
       "      <td>NaN</td>\n",
       "      <td>NaN</td>\n",
       "      <td>NaN</td>\n",
       "      <td>NaN</td>\n",
       "      <td>NaN</td>\n",
       "      <td>NaN</td>\n",
       "      <td>...</td>\n",
       "      <td>NaN</td>\n",
       "      <td>NaN</td>\n",
       "      <td>NaN</td>\n",
       "      <td>NaN</td>\n",
       "      <td>NaN</td>\n",
       "      <td>NaN</td>\n",
       "      <td>NaN</td>\n",
       "      <td>NaN</td>\n",
       "      <td>NaN</td>\n",
       "      <td>NaN</td>\n",
       "    </tr>\n",
       "    <tr>\n",
       "      <th>2010-01-05</th>\n",
       "      <td>-0.006264</td>\n",
       "      <td>-0.008079</td>\n",
       "      <td>NaN</td>\n",
       "      <td>-0.024027</td>\n",
       "      <td>0.006180</td>\n",
       "      <td>0.001770</td>\n",
       "      <td>0.016446</td>\n",
       "      <td>0.001031</td>\n",
       "      <td>-0.005944</td>\n",
       "      <td>-0.010241</td>\n",
       "      <td>...</td>\n",
       "      <td>0.060819</td>\n",
       "      <td>-0.011860</td>\n",
       "      <td>0.001159</td>\n",
       "      <td>-0.012608</td>\n",
       "      <td>NaN</td>\n",
       "      <td>-0.003420</td>\n",
       "      <td>-0.001744</td>\n",
       "      <td>0.031656</td>\n",
       "      <td>0.035259</td>\n",
       "      <td>NaN</td>\n",
       "    </tr>\n",
       "    <tr>\n",
       "      <th>2010-01-06</th>\n",
       "      <td>0.014182</td>\n",
       "      <td>0.005553</td>\n",
       "      <td>NaN</td>\n",
       "      <td>-0.015240</td>\n",
       "      <td>0.010631</td>\n",
       "      <td>-0.005300</td>\n",
       "      <td>-0.002122</td>\n",
       "      <td>-0.014418</td>\n",
       "      <td>0.008719</td>\n",
       "      <td>-0.010347</td>\n",
       "      <td>...</td>\n",
       "      <td>-0.013117</td>\n",
       "      <td>0.001920</td>\n",
       "      <td>-0.009259</td>\n",
       "      <td>-0.006784</td>\n",
       "      <td>NaN</td>\n",
       "      <td>-0.007149</td>\n",
       "      <td>-0.007687</td>\n",
       "      <td>-0.000323</td>\n",
       "      <td>0.086957</td>\n",
       "      <td>NaN</td>\n",
       "    </tr>\n",
       "    <tr>\n",
       "      <th>2010-01-07</th>\n",
       "      <td>0.000717</td>\n",
       "      <td>0.008284</td>\n",
       "      <td>NaN</td>\n",
       "      <td>0.000000</td>\n",
       "      <td>-0.000935</td>\n",
       "      <td>-0.023979</td>\n",
       "      <td>-0.019405</td>\n",
       "      <td>-0.010449</td>\n",
       "      <td>-0.000247</td>\n",
       "      <td>0.000747</td>\n",
       "      <td>...</td>\n",
       "      <td>0.021356</td>\n",
       "      <td>-0.004312</td>\n",
       "      <td>0.004673</td>\n",
       "      <td>-0.010044</td>\n",
       "      <td>NaN</td>\n",
       "      <td>-0.000288</td>\n",
       "      <td>-0.025000</td>\n",
       "      <td>0.022940</td>\n",
       "      <td>0.112000</td>\n",
       "      <td>NaN</td>\n",
       "    </tr>\n",
       "    <tr>\n",
       "      <th>2010-01-08</th>\n",
       "      <td>0.007046</td>\n",
       "      <td>0.005112</td>\n",
       "      <td>NaN</td>\n",
       "      <td>-0.020238</td>\n",
       "      <td>-0.003978</td>\n",
       "      <td>-0.008189</td>\n",
       "      <td>-0.005422</td>\n",
       "      <td>-0.004224</td>\n",
       "      <td>0.003953</td>\n",
       "      <td>0.028358</td>\n",
       "      <td>...</td>\n",
       "      <td>-0.007165</td>\n",
       "      <td>0.000481</td>\n",
       "      <td>-0.003488</td>\n",
       "      <td>0.014610</td>\n",
       "      <td>NaN</td>\n",
       "      <td>0.000288</td>\n",
       "      <td>-0.003250</td>\n",
       "      <td>-0.021004</td>\n",
       "      <td>-0.016187</td>\n",
       "      <td>NaN</td>\n",
       "    </tr>\n",
       "    <tr>\n",
       "      <th>...</th>\n",
       "      <td>...</td>\n",
       "      <td>...</td>\n",
       "      <td>...</td>\n",
       "      <td>...</td>\n",
       "      <td>...</td>\n",
       "      <td>...</td>\n",
       "      <td>...</td>\n",
       "      <td>...</td>\n",
       "      <td>...</td>\n",
       "      <td>...</td>\n",
       "      <td>...</td>\n",
       "      <td>...</td>\n",
       "      <td>...</td>\n",
       "      <td>...</td>\n",
       "      <td>...</td>\n",
       "      <td>...</td>\n",
       "      <td>...</td>\n",
       "      <td>...</td>\n",
       "      <td>...</td>\n",
       "      <td>...</td>\n",
       "      <td>...</td>\n",
       "    </tr>\n",
       "    <tr>\n",
       "      <th>2019-12-24</th>\n",
       "      <td>-0.010030</td>\n",
       "      <td>-0.000801</td>\n",
       "      <td>-0.004432</td>\n",
       "      <td>0.010913</td>\n",
       "      <td>0.003700</td>\n",
       "      <td>-0.001358</td>\n",
       "      <td>0.002098</td>\n",
       "      <td>0.023757</td>\n",
       "      <td>0.003751</td>\n",
       "      <td>-0.003027</td>\n",
       "      <td>...</td>\n",
       "      <td>-0.005634</td>\n",
       "      <td>0.003888</td>\n",
       "      <td>0.000535</td>\n",
       "      <td>-0.004146</td>\n",
       "      <td>-0.003927</td>\n",
       "      <td>0.005210</td>\n",
       "      <td>-0.009348</td>\n",
       "      <td>-0.002446</td>\n",
       "      <td>0.003701</td>\n",
       "      <td>0.004155</td>\n",
       "    </tr>\n",
       "    <tr>\n",
       "      <th>2019-12-26</th>\n",
       "      <td>-0.000509</td>\n",
       "      <td>0.000000</td>\n",
       "      <td>-0.000223</td>\n",
       "      <td>-0.007487</td>\n",
       "      <td>0.002079</td>\n",
       "      <td>0.001360</td>\n",
       "      <td>0.004732</td>\n",
       "      <td>0.001934</td>\n",
       "      <td>-0.008096</td>\n",
       "      <td>0.008603</td>\n",
       "      <td>...</td>\n",
       "      <td>0.010757</td>\n",
       "      <td>-0.001114</td>\n",
       "      <td>0.002944</td>\n",
       "      <td>0.001929</td>\n",
       "      <td>-0.000509</td>\n",
       "      <td>0.014552</td>\n",
       "      <td>0.000354</td>\n",
       "      <td>-0.002187</td>\n",
       "      <td>0.002523</td>\n",
       "      <td>0.000828</td>\n",
       "    </tr>\n",
       "    <tr>\n",
       "      <th>2019-12-27</th>\n",
       "      <td>0.003794</td>\n",
       "      <td>0.001375</td>\n",
       "      <td>-0.007013</td>\n",
       "      <td>-0.010175</td>\n",
       "      <td>0.000802</td>\n",
       "      <td>0.005009</td>\n",
       "      <td>-0.001238</td>\n",
       "      <td>-0.009650</td>\n",
       "      <td>-0.005776</td>\n",
       "      <td>0.002509</td>\n",
       "      <td>...</td>\n",
       "      <td>-0.008018</td>\n",
       "      <td>0.005256</td>\n",
       "      <td>-0.004536</td>\n",
       "      <td>-0.002635</td>\n",
       "      <td>0.003053</td>\n",
       "      <td>0.001081</td>\n",
       "      <td>0.006210</td>\n",
       "      <td>-0.001929</td>\n",
       "      <td>-0.003097</td>\n",
       "      <td>0.001654</td>\n",
       "    </tr>\n",
       "    <tr>\n",
       "      <th>2019-12-30</th>\n",
       "      <td>-0.008067</td>\n",
       "      <td>-0.006865</td>\n",
       "      <td>-0.007623</td>\n",
       "      <td>-0.011697</td>\n",
       "      <td>-0.007445</td>\n",
       "      <td>-0.005153</td>\n",
       "      <td>-0.007407</td>\n",
       "      <td>-0.014292</td>\n",
       "      <td>0.004863</td>\n",
       "      <td>0.003003</td>\n",
       "      <td>...</td>\n",
       "      <td>-0.003076</td>\n",
       "      <td>0.002693</td>\n",
       "      <td>-0.004288</td>\n",
       "      <td>-0.007519</td>\n",
       "      <td>-0.001268</td>\n",
       "      <td>-0.012365</td>\n",
       "      <td>-0.007383</td>\n",
       "      <td>-0.008399</td>\n",
       "      <td>0.005243</td>\n",
       "      <td>-0.007805</td>\n",
       "    </tr>\n",
       "    <tr>\n",
       "      <th>2019-12-31</th>\n",
       "      <td>0.003356</td>\n",
       "      <td>0.000691</td>\n",
       "      <td>0.000226</td>\n",
       "      <td>0.019726</td>\n",
       "      <td>-0.000332</td>\n",
       "      <td>0.009171</td>\n",
       "      <td>0.004477</td>\n",
       "      <td>0.007469</td>\n",
       "      <td>0.006536</td>\n",
       "      <td>-0.006986</td>\n",
       "      <td>...</td>\n",
       "      <td>-0.003659</td>\n",
       "      <td>0.003160</td>\n",
       "      <td>-0.000813</td>\n",
       "      <td>0.000921</td>\n",
       "      <td>0.000635</td>\n",
       "      <td>0.000894</td>\n",
       "      <td>0.005234</td>\n",
       "      <td>0.006252</td>\n",
       "      <td>0.002897</td>\n",
       "      <td>0.001059</td>\n",
       "    </tr>\n",
       "  </tbody>\n",
       "</table>\n",
       "<p>2516 rows × 501 columns</p>\n",
       "</div>"
      ],
      "text/plain": [
       "                 MMM       ABT      ABBV      ABMD       ACN      ATVI  \\\n",
       "date                                                                     \n",
       "2010-01-04       NaN       NaN       NaN       NaN       NaN       NaN   \n",
       "2010-01-05 -0.006264 -0.008079       NaN -0.024027  0.006180  0.001770   \n",
       "2010-01-06  0.014182  0.005553       NaN -0.015240  0.010631 -0.005300   \n",
       "2010-01-07  0.000717  0.008284       NaN  0.000000 -0.000935 -0.023979   \n",
       "2010-01-08  0.007046  0.005112       NaN -0.020238 -0.003978 -0.008189   \n",
       "...              ...       ...       ...       ...       ...       ...   \n",
       "2019-12-24 -0.010030 -0.000801 -0.004432  0.010913  0.003700 -0.001358   \n",
       "2019-12-26 -0.000509  0.000000 -0.000223 -0.007487  0.002079  0.001360   \n",
       "2019-12-27  0.003794  0.001375 -0.007013 -0.010175  0.000802  0.005009   \n",
       "2019-12-30 -0.008067 -0.006865 -0.007623 -0.011697 -0.007445 -0.005153   \n",
       "2019-12-31  0.003356  0.000691  0.000226  0.019726 -0.000332  0.009171   \n",
       "\n",
       "                ADBE       AMD       AAP       AES  ...      WYNN       XEL  \\\n",
       "date                                                ...                       \n",
       "2010-01-04       NaN       NaN       NaN       NaN  ...       NaN       NaN   \n",
       "2010-01-05  0.016446  0.001031 -0.005944 -0.010241  ...  0.060819 -0.011860   \n",
       "2010-01-06 -0.002122 -0.014418  0.008719 -0.010347  ... -0.013117  0.001920   \n",
       "2010-01-07 -0.019405 -0.010449 -0.000247  0.000747  ...  0.021356 -0.004312   \n",
       "2010-01-08 -0.005422 -0.004224  0.003953  0.028358  ... -0.007165  0.000481   \n",
       "...              ...       ...       ...       ...  ...       ...       ...   \n",
       "2019-12-24  0.002098  0.023757  0.003751 -0.003027  ... -0.005634  0.003888   \n",
       "2019-12-26  0.004732  0.001934 -0.008096  0.008603  ...  0.010757 -0.001114   \n",
       "2019-12-27 -0.001238 -0.009650 -0.005776  0.002509  ... -0.008018  0.005256   \n",
       "2019-12-30 -0.007407 -0.014292  0.004863  0.003003  ... -0.003076  0.002693   \n",
       "2019-12-31  0.004477  0.007469  0.006536 -0.006986  ... -0.003659  0.003160   \n",
       "\n",
       "                 XRX      XLNX       XYL       YUM      ZBRA       ZBH  \\\n",
       "date                                                                     \n",
       "2010-01-04       NaN       NaN       NaN       NaN       NaN       NaN   \n",
       "2010-01-05  0.001159 -0.012608       NaN -0.003420 -0.001744  0.031656   \n",
       "2010-01-06 -0.009259 -0.006784       NaN -0.007149 -0.007687 -0.000323   \n",
       "2010-01-07  0.004673 -0.010044       NaN -0.000288 -0.025000  0.022940   \n",
       "2010-01-08 -0.003488  0.014610       NaN  0.000288 -0.003250 -0.021004   \n",
       "...              ...       ...       ...       ...       ...       ...   \n",
       "2019-12-24  0.000535 -0.004146 -0.003927  0.005210 -0.009348 -0.002446   \n",
       "2019-12-26  0.002944  0.001929 -0.000509  0.014552  0.000354 -0.002187   \n",
       "2019-12-27 -0.004536 -0.002635  0.003053  0.001081  0.006210 -0.001929   \n",
       "2019-12-30 -0.004288 -0.007519 -0.001268 -0.012365 -0.007383 -0.008399   \n",
       "2019-12-31 -0.000813  0.000921  0.000635  0.000894  0.005234  0.006252   \n",
       "\n",
       "                ZION       ZTS  \n",
       "date                            \n",
       "2010-01-04       NaN       NaN  \n",
       "2010-01-05  0.035259       NaN  \n",
       "2010-01-06  0.086957       NaN  \n",
       "2010-01-07  0.112000       NaN  \n",
       "2010-01-08 -0.016187       NaN  \n",
       "...              ...       ...  \n",
       "2019-12-24  0.003701  0.004155  \n",
       "2019-12-26  0.002523  0.000828  \n",
       "2019-12-27 -0.003097  0.001654  \n",
       "2019-12-30  0.005243 -0.007805  \n",
       "2019-12-31  0.002897  0.001059  \n",
       "\n",
       "[2516 rows x 501 columns]"
      ]
     },
     "execution_count": 82,
     "metadata": {},
     "output_type": "execute_result"
    }
   ],
   "source": [
    "company_returns_all"
   ]
  },
  {
   "cell_type": "markdown",
   "metadata": {},
   "source": [
    "### "
   ]
  },
  {
   "cell_type": "markdown",
   "metadata": {},
   "source": [
    "## Isolate the returns from 2016 to 2018, which will be used for clustering"
   ]
  },
  {
   "cell_type": "code",
   "execution_count": 118,
   "metadata": {},
   "outputs": [],
   "source": [
    "company_returns = company_returns_all.loc['2016-01-04':'2018-12-31']"
   ]
  },
  {
   "cell_type": "code",
   "execution_count": 119,
   "metadata": {},
   "outputs": [
    {
     "data": {
      "text/html": [
       "<div>\n",
       "<style scoped>\n",
       "    .dataframe tbody tr th:only-of-type {\n",
       "        vertical-align: middle;\n",
       "    }\n",
       "\n",
       "    .dataframe tbody tr th {\n",
       "        vertical-align: top;\n",
       "    }\n",
       "\n",
       "    .dataframe thead th {\n",
       "        text-align: right;\n",
       "    }\n",
       "</style>\n",
       "<table border=\"1\" class=\"dataframe\">\n",
       "  <thead>\n",
       "    <tr style=\"text-align: right;\">\n",
       "      <th></th>\n",
       "      <th>MMM</th>\n",
       "      <th>ABT</th>\n",
       "      <th>ABBV</th>\n",
       "      <th>ABMD</th>\n",
       "      <th>ACN</th>\n",
       "      <th>ATVI</th>\n",
       "      <th>ADBE</th>\n",
       "      <th>AMD</th>\n",
       "      <th>AAP</th>\n",
       "      <th>AES</th>\n",
       "      <th>...</th>\n",
       "      <th>WYNN</th>\n",
       "      <th>XEL</th>\n",
       "      <th>XRX</th>\n",
       "      <th>XLNX</th>\n",
       "      <th>XYL</th>\n",
       "      <th>YUM</th>\n",
       "      <th>ZBRA</th>\n",
       "      <th>ZBH</th>\n",
       "      <th>ZION</th>\n",
       "      <th>ZTS</th>\n",
       "    </tr>\n",
       "    <tr>\n",
       "      <th>date</th>\n",
       "      <th></th>\n",
       "      <th></th>\n",
       "      <th></th>\n",
       "      <th></th>\n",
       "      <th></th>\n",
       "      <th></th>\n",
       "      <th></th>\n",
       "      <th></th>\n",
       "      <th></th>\n",
       "      <th></th>\n",
       "      <th></th>\n",
       "      <th></th>\n",
       "      <th></th>\n",
       "      <th></th>\n",
       "      <th></th>\n",
       "      <th></th>\n",
       "      <th></th>\n",
       "      <th></th>\n",
       "      <th></th>\n",
       "      <th></th>\n",
       "      <th></th>\n",
       "    </tr>\n",
       "  </thead>\n",
       "  <tbody>\n",
       "    <tr>\n",
       "      <th>2016-01-04</th>\n",
       "      <td>-0.025358</td>\n",
       "      <td>-0.044088</td>\n",
       "      <td>-0.027515</td>\n",
       "      <td>-0.055826</td>\n",
       "      <td>-0.025550</td>\n",
       "      <td>-0.028158</td>\n",
       "      <td>-0.020971</td>\n",
       "      <td>-0.034843</td>\n",
       "      <td>0.011494</td>\n",
       "      <td>-0.014629</td>\n",
       "      <td>...</td>\n",
       "      <td>-0.006070</td>\n",
       "      <td>-0.005848</td>\n",
       "      <td>-0.031044</td>\n",
       "      <td>-0.024910</td>\n",
       "      <td>-0.011507</td>\n",
       "      <td>-0.011499</td>\n",
       "      <td>-0.045370</td>\n",
       "      <td>-0.007603</td>\n",
       "      <td>-0.021612</td>\n",
       "      <td>-0.013564</td>\n",
       "    </tr>\n",
       "    <tr>\n",
       "      <th>2016-01-05</th>\n",
       "      <td>0.004359</td>\n",
       "      <td>-0.000233</td>\n",
       "      <td>-0.004166</td>\n",
       "      <td>-0.002816</td>\n",
       "      <td>0.005205</td>\n",
       "      <td>-0.012759</td>\n",
       "      <td>0.004023</td>\n",
       "      <td>-0.007220</td>\n",
       "      <td>-0.006831</td>\n",
       "      <td>0.013786</td>\n",
       "      <td>...</td>\n",
       "      <td>0.018904</td>\n",
       "      <td>0.010084</td>\n",
       "      <td>-0.001942</td>\n",
       "      <td>0.014847</td>\n",
       "      <td>-0.000277</td>\n",
       "      <td>-0.002493</td>\n",
       "      <td>-0.025117</td>\n",
       "      <td>0.020823</td>\n",
       "      <td>-0.010857</td>\n",
       "      <td>0.015655</td>\n",
       "    </tr>\n",
       "    <tr>\n",
       "      <th>2016-01-06</th>\n",
       "      <td>-0.020141</td>\n",
       "      <td>-0.008388</td>\n",
       "      <td>0.000174</td>\n",
       "      <td>0.003529</td>\n",
       "      <td>-0.001954</td>\n",
       "      <td>-0.009424</td>\n",
       "      <td>-0.014295</td>\n",
       "      <td>-0.089091</td>\n",
       "      <td>-0.026455</td>\n",
       "      <td>-0.034519</td>\n",
       "      <td>...</td>\n",
       "      <td>-0.051805</td>\n",
       "      <td>0.010538</td>\n",
       "      <td>-0.012646</td>\n",
       "      <td>-0.018287</td>\n",
       "      <td>-0.012476</td>\n",
       "      <td>-0.007080</td>\n",
       "      <td>-0.039957</td>\n",
       "      <td>0.004330</td>\n",
       "      <td>-0.029145</td>\n",
       "      <td>0.000208</td>\n",
       "    </tr>\n",
       "    <tr>\n",
       "      <th>2016-01-07</th>\n",
       "      <td>-0.024362</td>\n",
       "      <td>-0.023966</td>\n",
       "      <td>-0.002963</td>\n",
       "      <td>-0.039625</td>\n",
       "      <td>-0.029366</td>\n",
       "      <td>-0.014134</td>\n",
       "      <td>-0.020984</td>\n",
       "      <td>-0.091816</td>\n",
       "      <td>0.011073</td>\n",
       "      <td>-0.024919</td>\n",
       "      <td>...</td>\n",
       "      <td>-0.094070</td>\n",
       "      <td>0.003842</td>\n",
       "      <td>-0.027586</td>\n",
       "      <td>-0.039448</td>\n",
       "      <td>-0.025828</td>\n",
       "      <td>-0.034116</td>\n",
       "      <td>-0.045316</td>\n",
       "      <td>-0.022993</td>\n",
       "      <td>-0.030019</td>\n",
       "      <td>-0.030404</td>\n",
       "    </tr>\n",
       "    <tr>\n",
       "      <th>2016-01-08</th>\n",
       "      <td>-0.003405</td>\n",
       "      <td>-0.020944</td>\n",
       "      <td>-0.027268</td>\n",
       "      <td>0.032471</td>\n",
       "      <td>-0.009681</td>\n",
       "      <td>-0.015440</td>\n",
       "      <td>-0.014140</td>\n",
       "      <td>-0.059341</td>\n",
       "      <td>-0.021971</td>\n",
       "      <td>0.014444</td>\n",
       "      <td>...</td>\n",
       "      <td>-0.040704</td>\n",
       "      <td>-0.010935</td>\n",
       "      <td>-0.028369</td>\n",
       "      <td>-0.020534</td>\n",
       "      <td>-0.009510</td>\n",
       "      <td>-0.013607</td>\n",
       "      <td>-0.002693</td>\n",
       "      <td>-0.004217</td>\n",
       "      <td>-0.011254</td>\n",
       "      <td>-0.014605</td>\n",
       "    </tr>\n",
       "    <tr>\n",
       "      <th>...</th>\n",
       "      <td>...</td>\n",
       "      <td>...</td>\n",
       "      <td>...</td>\n",
       "      <td>...</td>\n",
       "      <td>...</td>\n",
       "      <td>...</td>\n",
       "      <td>...</td>\n",
       "      <td>...</td>\n",
       "      <td>...</td>\n",
       "      <td>...</td>\n",
       "      <td>...</td>\n",
       "      <td>...</td>\n",
       "      <td>...</td>\n",
       "      <td>...</td>\n",
       "      <td>...</td>\n",
       "      <td>...</td>\n",
       "      <td>...</td>\n",
       "      <td>...</td>\n",
       "      <td>...</td>\n",
       "      <td>...</td>\n",
       "      <td>...</td>\n",
       "    </tr>\n",
       "    <tr>\n",
       "      <th>2018-12-24</th>\n",
       "      <td>-0.027918</td>\n",
       "      <td>-0.025420</td>\n",
       "      <td>-0.008950</td>\n",
       "      <td>-0.031727</td>\n",
       "      <td>-0.025729</td>\n",
       "      <td>-0.040567</td>\n",
       "      <td>-0.017433</td>\n",
       "      <td>-0.016539</td>\n",
       "      <td>-0.016445</td>\n",
       "      <td>-0.043599</td>\n",
       "      <td>...</td>\n",
       "      <td>-0.014988</td>\n",
       "      <td>-0.045187</td>\n",
       "      <td>-0.021211</td>\n",
       "      <td>-0.027481</td>\n",
       "      <td>-0.032472</td>\n",
       "      <td>-0.012707</td>\n",
       "      <td>-0.022906</td>\n",
       "      <td>-0.021634</td>\n",
       "      <td>-0.014081</td>\n",
       "      <td>-0.029383</td>\n",
       "    </tr>\n",
       "    <tr>\n",
       "      <th>2018-12-26</th>\n",
       "      <td>0.042772</td>\n",
       "      <td>0.061928</td>\n",
       "      <td>0.057985</td>\n",
       "      <td>0.093781</td>\n",
       "      <td>0.039949</td>\n",
       "      <td>0.055240</td>\n",
       "      <td>0.086713</td>\n",
       "      <td>0.075075</td>\n",
       "      <td>0.041029</td>\n",
       "      <td>0.033285</td>\n",
       "      <td>...</td>\n",
       "      <td>0.078470</td>\n",
       "      <td>0.019753</td>\n",
       "      <td>0.041226</td>\n",
       "      <td>0.075060</td>\n",
       "      <td>0.047084</td>\n",
       "      <td>0.034130</td>\n",
       "      <td>0.067320</td>\n",
       "      <td>0.049265</td>\n",
       "      <td>0.051935</td>\n",
       "      <td>0.045913</td>\n",
       "    </tr>\n",
       "    <tr>\n",
       "      <th>2018-12-27</th>\n",
       "      <td>0.023838</td>\n",
       "      <td>0.014507</td>\n",
       "      <td>0.009771</td>\n",
       "      <td>0.026769</td>\n",
       "      <td>0.010071</td>\n",
       "      <td>0.013356</td>\n",
       "      <td>0.009823</td>\n",
       "      <td>-0.022905</td>\n",
       "      <td>-0.002193</td>\n",
       "      <td>0.000700</td>\n",
       "      <td>...</td>\n",
       "      <td>-0.011186</td>\n",
       "      <td>0.008475</td>\n",
       "      <td>-0.001015</td>\n",
       "      <td>-0.010796</td>\n",
       "      <td>0.016804</td>\n",
       "      <td>0.010779</td>\n",
       "      <td>0.018555</td>\n",
       "      <td>-0.000686</td>\n",
       "      <td>-0.001234</td>\n",
       "      <td>0.017004</td>\n",
       "    </tr>\n",
       "    <tr>\n",
       "      <th>2018-12-28</th>\n",
       "      <td>-0.006974</td>\n",
       "      <td>0.006513</td>\n",
       "      <td>0.013458</td>\n",
       "      <td>0.007920</td>\n",
       "      <td>-0.004202</td>\n",
       "      <td>-0.005102</td>\n",
       "      <td>-0.008928</td>\n",
       "      <td>0.018868</td>\n",
       "      <td>0.004978</td>\n",
       "      <td>-0.001400</td>\n",
       "      <td>...</td>\n",
       "      <td>-0.008969</td>\n",
       "      <td>-0.007056</td>\n",
       "      <td>0.011179</td>\n",
       "      <td>0.000474</td>\n",
       "      <td>-0.000765</td>\n",
       "      <td>0.007146</td>\n",
       "      <td>0.003991</td>\n",
       "      <td>0.009242</td>\n",
       "      <td>-0.000741</td>\n",
       "      <td>0.001897</td>\n",
       "    </tr>\n",
       "    <tr>\n",
       "      <th>2018-12-31</th>\n",
       "      <td>0.006178</td>\n",
       "      <td>0.017443</td>\n",
       "      <td>0.011743</td>\n",
       "      <td>0.021592</td>\n",
       "      <td>0.008511</td>\n",
       "      <td>-0.004915</td>\n",
       "      <td>0.013938</td>\n",
       "      <td>0.035915</td>\n",
       "      <td>0.012865</td>\n",
       "      <td>0.013315</td>\n",
       "      <td>...</td>\n",
       "      <td>0.017174</td>\n",
       "      <td>0.000406</td>\n",
       "      <td>0.005598</td>\n",
       "      <td>0.009841</td>\n",
       "      <td>0.021746</td>\n",
       "      <td>0.003384</td>\n",
       "      <td>0.020901</td>\n",
       "      <td>0.010424</td>\n",
       "      <td>0.007668</td>\n",
       "      <td>0.012428</td>\n",
       "    </tr>\n",
       "  </tbody>\n",
       "</table>\n",
       "<p>754 rows × 501 columns</p>\n",
       "</div>"
      ],
      "text/plain": [
       "                 MMM       ABT      ABBV      ABMD       ACN      ATVI  \\\n",
       "date                                                                     \n",
       "2016-01-04 -0.025358 -0.044088 -0.027515 -0.055826 -0.025550 -0.028158   \n",
       "2016-01-05  0.004359 -0.000233 -0.004166 -0.002816  0.005205 -0.012759   \n",
       "2016-01-06 -0.020141 -0.008388  0.000174  0.003529 -0.001954 -0.009424   \n",
       "2016-01-07 -0.024362 -0.023966 -0.002963 -0.039625 -0.029366 -0.014134   \n",
       "2016-01-08 -0.003405 -0.020944 -0.027268  0.032471 -0.009681 -0.015440   \n",
       "...              ...       ...       ...       ...       ...       ...   \n",
       "2018-12-24 -0.027918 -0.025420 -0.008950 -0.031727 -0.025729 -0.040567   \n",
       "2018-12-26  0.042772  0.061928  0.057985  0.093781  0.039949  0.055240   \n",
       "2018-12-27  0.023838  0.014507  0.009771  0.026769  0.010071  0.013356   \n",
       "2018-12-28 -0.006974  0.006513  0.013458  0.007920 -0.004202 -0.005102   \n",
       "2018-12-31  0.006178  0.017443  0.011743  0.021592  0.008511 -0.004915   \n",
       "\n",
       "                ADBE       AMD       AAP       AES  ...      WYNN       XEL  \\\n",
       "date                                                ...                       \n",
       "2016-01-04 -0.020971 -0.034843  0.011494 -0.014629  ... -0.006070 -0.005848   \n",
       "2016-01-05  0.004023 -0.007220 -0.006831  0.013786  ...  0.018904  0.010084   \n",
       "2016-01-06 -0.014295 -0.089091 -0.026455 -0.034519  ... -0.051805  0.010538   \n",
       "2016-01-07 -0.020984 -0.091816  0.011073 -0.024919  ... -0.094070  0.003842   \n",
       "2016-01-08 -0.014140 -0.059341 -0.021971  0.014444  ... -0.040704 -0.010935   \n",
       "...              ...       ...       ...       ...  ...       ...       ...   \n",
       "2018-12-24 -0.017433 -0.016539 -0.016445 -0.043599  ... -0.014988 -0.045187   \n",
       "2018-12-26  0.086713  0.075075  0.041029  0.033285  ...  0.078470  0.019753   \n",
       "2018-12-27  0.009823 -0.022905 -0.002193  0.000700  ... -0.011186  0.008475   \n",
       "2018-12-28 -0.008928  0.018868  0.004978 -0.001400  ... -0.008969 -0.007056   \n",
       "2018-12-31  0.013938  0.035915  0.012865  0.013315  ...  0.017174  0.000406   \n",
       "\n",
       "                 XRX      XLNX       XYL       YUM      ZBRA       ZBH  \\\n",
       "date                                                                     \n",
       "2016-01-04 -0.031044 -0.024910 -0.011507 -0.011499 -0.045370 -0.007603   \n",
       "2016-01-05 -0.001942  0.014847 -0.000277 -0.002493 -0.025117  0.020823   \n",
       "2016-01-06 -0.012646 -0.018287 -0.012476 -0.007080 -0.039957  0.004330   \n",
       "2016-01-07 -0.027586 -0.039448 -0.025828 -0.034116 -0.045316 -0.022993   \n",
       "2016-01-08 -0.028369 -0.020534 -0.009510 -0.013607 -0.002693 -0.004217   \n",
       "...              ...       ...       ...       ...       ...       ...   \n",
       "2018-12-24 -0.021211 -0.027481 -0.032472 -0.012707 -0.022906 -0.021634   \n",
       "2018-12-26  0.041226  0.075060  0.047084  0.034130  0.067320  0.049265   \n",
       "2018-12-27 -0.001015 -0.010796  0.016804  0.010779  0.018555 -0.000686   \n",
       "2018-12-28  0.011179  0.000474 -0.000765  0.007146  0.003991  0.009242   \n",
       "2018-12-31  0.005598  0.009841  0.021746  0.003384  0.020901  0.010424   \n",
       "\n",
       "                ZION       ZTS  \n",
       "date                            \n",
       "2016-01-04 -0.021612 -0.013564  \n",
       "2016-01-05 -0.010857  0.015655  \n",
       "2016-01-06 -0.029145  0.000208  \n",
       "2016-01-07 -0.030019 -0.030404  \n",
       "2016-01-08 -0.011254 -0.014605  \n",
       "...              ...       ...  \n",
       "2018-12-24 -0.014081 -0.029383  \n",
       "2018-12-26  0.051935  0.045913  \n",
       "2018-12-27 -0.001234  0.017004  \n",
       "2018-12-28 -0.000741  0.001897  \n",
       "2018-12-31  0.007668  0.012428  \n",
       "\n",
       "[754 rows x 501 columns]"
      ]
     },
     "execution_count": 119,
     "metadata": {},
     "output_type": "execute_result"
    }
   ],
   "source": [
    "company_returns"
   ]
  },
  {
   "cell_type": "markdown",
   "metadata": {},
   "source": [
    "### "
   ]
  },
  {
   "cell_type": "markdown",
   "metadata": {},
   "source": [
    "## EDA"
   ]
  },
  {
   "cell_type": "markdown",
   "metadata": {},
   "source": [
    "Inspect:\n",
    "- company_details\n",
    "- company_returns"
   ]
  },
  {
   "cell_type": "markdown",
   "metadata": {},
   "source": [
    "### "
   ]
  },
  {
   "cell_type": "markdown",
   "metadata": {},
   "source": [
    "### Company details"
   ]
  },
  {
   "cell_type": "code",
   "execution_count": 87,
   "metadata": {},
   "outputs": [
    {
     "data": {
      "text/plain": [
       "GICS Sector           0\n",
       "GICS Sub-Industry     0\n",
       "debt_to_assets       10\n",
       "debt_to_equity        9\n",
       "profit_margin         5\n",
       "dtype: int64"
      ]
     },
     "execution_count": 87,
     "metadata": {},
     "output_type": "execute_result"
    }
   ],
   "source": [
    "company_details.isnull().sum()"
   ]
  },
  {
   "cell_type": "code",
   "execution_count": 88,
   "metadata": {},
   "outputs": [
    {
     "data": {
      "text/html": [
       "<div>\n",
       "<style scoped>\n",
       "    .dataframe tbody tr th:only-of-type {\n",
       "        vertical-align: middle;\n",
       "    }\n",
       "\n",
       "    .dataframe tbody tr th {\n",
       "        vertical-align: top;\n",
       "    }\n",
       "\n",
       "    .dataframe thead th {\n",
       "        text-align: right;\n",
       "    }\n",
       "</style>\n",
       "<table border=\"1\" class=\"dataframe\">\n",
       "  <thead>\n",
       "    <tr style=\"text-align: right;\">\n",
       "      <th></th>\n",
       "      <th>GICS Sector</th>\n",
       "      <th>GICS Sub-Industry</th>\n",
       "      <th>debt_to_assets</th>\n",
       "      <th>debt_to_equity</th>\n",
       "      <th>profit_margin</th>\n",
       "    </tr>\n",
       "    <tr>\n",
       "      <th>Symbol</th>\n",
       "      <th></th>\n",
       "      <th></th>\n",
       "      <th></th>\n",
       "      <th></th>\n",
       "      <th></th>\n",
       "    </tr>\n",
       "  </thead>\n",
       "  <tbody>\n",
       "    <tr>\n",
       "      <th>BRK.B</th>\n",
       "      <td>Financials</td>\n",
       "      <td>Multi-Sector Holdings</td>\n",
       "      <td>NaN</td>\n",
       "      <td>NaN</td>\n",
       "      <td>NaN</td>\n",
       "    </tr>\n",
       "    <tr>\n",
       "      <th>BF.B</th>\n",
       "      <td>Consumer Staples</td>\n",
       "      <td>Distillers &amp; Vintners</td>\n",
       "      <td>NaN</td>\n",
       "      <td>NaN</td>\n",
       "      <td>NaN</td>\n",
       "    </tr>\n",
       "    <tr>\n",
       "      <th>FTNT</th>\n",
       "      <td>Information Technology</td>\n",
       "      <td>Systems Software</td>\n",
       "      <td>NaN</td>\n",
       "      <td>NaN</td>\n",
       "      <td>0.174617</td>\n",
       "    </tr>\n",
       "    <tr>\n",
       "      <th>HBI</th>\n",
       "      <td>Consumer Discretionary</td>\n",
       "      <td>Apparel, Accessories &amp; Luxury Goods</td>\n",
       "      <td>NaN</td>\n",
       "      <td>NaN</td>\n",
       "      <td>NaN</td>\n",
       "    </tr>\n",
       "    <tr>\n",
       "      <th>HCA</th>\n",
       "      <td>Health Care</td>\n",
       "      <td>Health Care Facilities</td>\n",
       "      <td>NaN</td>\n",
       "      <td>NaN</td>\n",
       "      <td>NaN</td>\n",
       "    </tr>\n",
       "    <tr>\n",
       "      <th>IEX</th>\n",
       "      <td>Industrials</td>\n",
       "      <td>Industrial Machinery</td>\n",
       "      <td>NaN</td>\n",
       "      <td>NaN</td>\n",
       "      <td>NaN</td>\n",
       "    </tr>\n",
       "    <tr>\n",
       "      <th>ISRG</th>\n",
       "      <td>Health Care</td>\n",
       "      <td>Health Care Equipment</td>\n",
       "      <td>NaN</td>\n",
       "      <td>NaN</td>\n",
       "      <td>0.244509</td>\n",
       "    </tr>\n",
       "    <tr>\n",
       "      <th>MDLZ</th>\n",
       "      <td>Consumer Staples</td>\n",
       "      <td>Packaged Foods &amp; Meats</td>\n",
       "      <td>NaN</td>\n",
       "      <td>NaN</td>\n",
       "      <td>0.117308</td>\n",
       "    </tr>\n",
       "    <tr>\n",
       "      <th>MNST</th>\n",
       "      <td>Consumer Staples</td>\n",
       "      <td>Soft Drinks</td>\n",
       "      <td>NaN</td>\n",
       "      <td>NaN</td>\n",
       "      <td>0.260645</td>\n",
       "    </tr>\n",
       "    <tr>\n",
       "      <th>PKI</th>\n",
       "      <td>Health Care</td>\n",
       "      <td>Health Care Equipment</td>\n",
       "      <td>NaN</td>\n",
       "      <td>inf</td>\n",
       "      <td>0.142883</td>\n",
       "    </tr>\n",
       "  </tbody>\n",
       "</table>\n",
       "</div>"
      ],
      "text/plain": [
       "                   GICS Sector                    GICS Sub-Industry  \\\n",
       "Symbol                                                                \n",
       "BRK.B               Financials                Multi-Sector Holdings   \n",
       "BF.B          Consumer Staples                Distillers & Vintners   \n",
       "FTNT    Information Technology                     Systems Software   \n",
       "HBI     Consumer Discretionary  Apparel, Accessories & Luxury Goods   \n",
       "HCA                Health Care               Health Care Facilities   \n",
       "IEX                Industrials                 Industrial Machinery   \n",
       "ISRG               Health Care                Health Care Equipment   \n",
       "MDLZ          Consumer Staples               Packaged Foods & Meats   \n",
       "MNST          Consumer Staples                          Soft Drinks   \n",
       "PKI                Health Care                Health Care Equipment   \n",
       "\n",
       "        debt_to_assets  debt_to_equity  profit_margin  \n",
       "Symbol                                                 \n",
       "BRK.B              NaN             NaN            NaN  \n",
       "BF.B               NaN             NaN            NaN  \n",
       "FTNT               NaN             NaN       0.174617  \n",
       "HBI                NaN             NaN            NaN  \n",
       "HCA                NaN             NaN            NaN  \n",
       "IEX                NaN             NaN            NaN  \n",
       "ISRG               NaN             NaN       0.244509  \n",
       "MDLZ               NaN             NaN       0.117308  \n",
       "MNST               NaN             NaN       0.260645  \n",
       "PKI                NaN             inf       0.142883  "
      ]
     },
     "execution_count": 88,
     "metadata": {},
     "output_type": "execute_result"
    }
   ],
   "source": [
    "company_details[company_details['debt_to_assets'].isnull()]"
   ]
  },
  {
   "cell_type": "markdown",
   "metadata": {},
   "source": [
    "### "
   ]
  },
  {
   "cell_type": "markdown",
   "metadata": {},
   "source": [
    "#### Drop companies that do not have ratio information. There are only 10 companies in question."
   ]
  },
  {
   "cell_type": "code",
   "execution_count": 90,
   "metadata": {},
   "outputs": [],
   "source": [
    "company_details = company_details.dropna()"
   ]
  },
  {
   "cell_type": "code",
   "execution_count": 91,
   "metadata": {},
   "outputs": [
    {
     "data": {
      "text/plain": [
       "GICS Sector          0\n",
       "GICS Sub-Industry    0\n",
       "debt_to_assets       0\n",
       "debt_to_equity       0\n",
       "profit_margin        0\n",
       "dtype: int64"
      ]
     },
     "execution_count": 91,
     "metadata": {},
     "output_type": "execute_result"
    }
   ],
   "source": [
    "company_details.isnull().sum()"
   ]
  },
  {
   "cell_type": "markdown",
   "metadata": {},
   "source": [
    "### "
   ]
  },
  {
   "cell_type": "markdown",
   "metadata": {},
   "source": [
    "#### Inspect remaining ratios"
   ]
  },
  {
   "cell_type": "code",
   "execution_count": 95,
   "metadata": {},
   "outputs": [
    {
     "data": {
      "image/png": "[encoded data removed]",
      "text/plain": [
       "<Figure size 432x288 with 1 Axes>"
      ]
     },
     "metadata": {
      "needs_background": "light"
     },
     "output_type": "display_data"
    }
   ],
   "source": [
    "sns.boxplot(data = company_details['debt_to_assets'])\n",
    "plt.show()"
   ]
  },
  {
   "cell_type": "code",
   "execution_count": 96,
   "metadata": {},
   "outputs": [
    {
     "data": {
      "text/html": [
       "<div>\n",
       "<style scoped>\n",
       "    .dataframe tbody tr th:only-of-type {\n",
       "        vertical-align: middle;\n",
       "    }\n",
       "\n",
       "    .dataframe tbody tr th {\n",
       "        vertical-align: top;\n",
       "    }\n",
       "\n",
       "    .dataframe thead th {\n",
       "        text-align: right;\n",
       "    }\n",
       "</style>\n",
       "<table border=\"1\" class=\"dataframe\">\n",
       "  <thead>\n",
       "    <tr style=\"text-align: right;\">\n",
       "      <th></th>\n",
       "      <th>GICS Sector</th>\n",
       "      <th>GICS Sub-Industry</th>\n",
       "      <th>debt_to_assets</th>\n",
       "      <th>debt_to_equity</th>\n",
       "      <th>profit_margin</th>\n",
       "    </tr>\n",
       "    <tr>\n",
       "      <th>Symbol</th>\n",
       "      <th></th>\n",
       "      <th></th>\n",
       "      <th></th>\n",
       "      <th></th>\n",
       "      <th></th>\n",
       "    </tr>\n",
       "  </thead>\n",
       "  <tbody>\n",
       "    <tr>\n",
       "      <th>DPZ</th>\n",
       "      <td>Consumer Discretionary</td>\n",
       "      <td>Restaurants</td>\n",
       "      <td>3.147763</td>\n",
       "      <td>1.273655</td>\n",
       "      <td>0.119842</td>\n",
       "    </tr>\n",
       "    <tr>\n",
       "      <th>YUM</th>\n",
       "      <td>Consumer Discretionary</td>\n",
       "      <td>Restaurants</td>\n",
       "      <td>2.154273</td>\n",
       "      <td>1.405813</td>\n",
       "      <td>0.189184</td>\n",
       "    </tr>\n",
       "  </tbody>\n",
       "</table>\n",
       "</div>"
      ],
      "text/plain": [
       "                   GICS Sector GICS Sub-Industry  debt_to_assets  \\\n",
       "Symbol                                                             \n",
       "DPZ     Consumer Discretionary       Restaurants        3.147763   \n",
       "YUM     Consumer Discretionary       Restaurants        2.154273   \n",
       "\n",
       "        debt_to_equity  profit_margin  \n",
       "Symbol                                 \n",
       "DPZ           1.273655       0.119842  \n",
       "YUM           1.405813       0.189184  "
      ]
     },
     "execution_count": 96,
     "metadata": {},
     "output_type": "execute_result"
    }
   ],
   "source": [
    "company_details[company_details['debt_to_assets'] > 1.5]"
   ]
  },
  {
   "cell_type": "code",
   "execution_count": 97,
   "metadata": {},
   "outputs": [
    {
     "data": {
      "image/png": "[encoded data removed]",
      "text/plain": [
       "<Figure size 432x288 with 1 Axes>"
      ]
     },
     "metadata": {
      "needs_background": "light"
     },
     "output_type": "display_data"
    }
   ],
   "source": [
    "sns.boxplot(data = company_details['debt_to_equity'])\n",
    "plt.show()"
   ]
  },
  {
   "cell_type": "code",
   "execution_count": 98,
   "metadata": {},
   "outputs": [
    {
     "data": {
      "text/html": [
       "<div>\n",
       "<style scoped>\n",
       "    .dataframe tbody tr th:only-of-type {\n",
       "        vertical-align: middle;\n",
       "    }\n",
       "\n",
       "    .dataframe tbody tr th {\n",
       "        vertical-align: top;\n",
       "    }\n",
       "\n",
       "    .dataframe thead th {\n",
       "        text-align: right;\n",
       "    }\n",
       "</style>\n",
       "<table border=\"1\" class=\"dataframe\">\n",
       "  <thead>\n",
       "    <tr style=\"text-align: right;\">\n",
       "      <th></th>\n",
       "      <th>GICS Sector</th>\n",
       "      <th>GICS Sub-Industry</th>\n",
       "      <th>debt_to_assets</th>\n",
       "      <th>debt_to_equity</th>\n",
       "      <th>profit_margin</th>\n",
       "    </tr>\n",
       "    <tr>\n",
       "      <th>Symbol</th>\n",
       "      <th></th>\n",
       "      <th></th>\n",
       "      <th></th>\n",
       "      <th></th>\n",
       "      <th></th>\n",
       "    </tr>\n",
       "  </thead>\n",
       "  <tbody>\n",
       "    <tr>\n",
       "      <th>AAL</th>\n",
       "      <td>Industrials</td>\n",
       "      <td>Airlines</td>\n",
       "      <td>0.557446</td>\n",
       "      <td>283.423729</td>\n",
       "      <td>0.255584</td>\n",
       "    </tr>\n",
       "    <tr>\n",
       "      <th>CL</th>\n",
       "      <td>Consumer Staples</td>\n",
       "      <td>Household Products</td>\n",
       "      <td>0.564254</td>\n",
       "      <td>72.504274</td>\n",
       "      <td>0.166502</td>\n",
       "    </tr>\n",
       "    <tr>\n",
       "      <th>KMB</th>\n",
       "      <td>Consumer Staples</td>\n",
       "      <td>Household Products</td>\n",
       "      <td>0.515409</td>\n",
       "      <td>238.696970</td>\n",
       "      <td>0.124954</td>\n",
       "    </tr>\n",
       "    <tr>\n",
       "      <th>NLOK</th>\n",
       "      <td>Information Technology</td>\n",
       "      <td>Application Software</td>\n",
       "      <td>0.558759</td>\n",
       "      <td>432.200000</td>\n",
       "      <td>1.317961</td>\n",
       "    </tr>\n",
       "    <tr>\n",
       "      <th>WU</th>\n",
       "      <td>Information Technology</td>\n",
       "      <td>Data Processing &amp; Outsourced Services</td>\n",
       "      <td>0.396369</td>\n",
       "      <td>87.888608</td>\n",
       "      <td>0.199977</td>\n",
       "    </tr>\n",
       "  </tbody>\n",
       "</table>\n",
       "</div>"
      ],
      "text/plain": [
       "                   GICS Sector                      GICS Sub-Industry  \\\n",
       "Symbol                                                                  \n",
       "AAL                Industrials                               Airlines   \n",
       "CL            Consumer Staples                     Household Products   \n",
       "KMB           Consumer Staples                     Household Products   \n",
       "NLOK    Information Technology                   Application Software   \n",
       "WU      Information Technology  Data Processing & Outsourced Services   \n",
       "\n",
       "        debt_to_assets  debt_to_equity  profit_margin  \n",
       "Symbol                                                 \n",
       "AAL           0.557446      283.423729       0.255584  \n",
       "CL            0.564254       72.504274       0.166502  \n",
       "KMB           0.515409      238.696970       0.124954  \n",
       "NLOK          0.558759      432.200000       1.317961  \n",
       "WU            0.396369       87.888608       0.199977  "
      ]
     },
     "execution_count": 98,
     "metadata": {},
     "output_type": "execute_result"
    }
   ],
   "source": [
    "company_details[company_details['debt_to_equity'] > 50]"
   ]
  },
  {
   "cell_type": "code",
   "execution_count": 99,
   "metadata": {},
   "outputs": [
    {
     "data": {
      "image/png": "[encoded data removed]",
      "text/plain": [
       "<Figure size 432x288 with 1 Axes>"
      ]
     },
     "metadata": {
      "needs_background": "light"
     },
     "output_type": "display_data"
    }
   ],
   "source": [
    "sns.boxplot(data = company_details['profit_margin'])\n",
    "plt.show()"
   ]
  },
  {
   "cell_type": "code",
   "execution_count": 100,
   "metadata": {},
   "outputs": [
    {
     "data": {
      "text/html": [
       "<div>\n",
       "<style scoped>\n",
       "    .dataframe tbody tr th:only-of-type {\n",
       "        vertical-align: middle;\n",
       "    }\n",
       "\n",
       "    .dataframe tbody tr th {\n",
       "        vertical-align: top;\n",
       "    }\n",
       "\n",
       "    .dataframe thead th {\n",
       "        text-align: right;\n",
       "    }\n",
       "</style>\n",
       "<table border=\"1\" class=\"dataframe\">\n",
       "  <thead>\n",
       "    <tr style=\"text-align: right;\">\n",
       "      <th></th>\n",
       "      <th>GICS Sector</th>\n",
       "      <th>GICS Sub-Industry</th>\n",
       "      <th>debt_to_assets</th>\n",
       "      <th>debt_to_equity</th>\n",
       "      <th>profit_margin</th>\n",
       "    </tr>\n",
       "    <tr>\n",
       "      <th>Symbol</th>\n",
       "      <th></th>\n",
       "      <th></th>\n",
       "      <th></th>\n",
       "      <th></th>\n",
       "      <th></th>\n",
       "    </tr>\n",
       "  </thead>\n",
       "  <tbody>\n",
       "    <tr>\n",
       "      <th>ALGN</th>\n",
       "      <td>Health Care</td>\n",
       "      <td>Health Care Supplies</td>\n",
       "      <td>0.023673</td>\n",
       "      <td>0.043977</td>\n",
       "      <td>0.759949</td>\n",
       "    </tr>\n",
       "    <tr>\n",
       "      <th>APA</th>\n",
       "      <td>Energy</td>\n",
       "      <td>Oil &amp; Gas Exploration &amp; Production</td>\n",
       "      <td>0.482410</td>\n",
       "      <td>2.683564</td>\n",
       "      <td>1.630111</td>\n",
       "    </tr>\n",
       "    <tr>\n",
       "      <th>BIO</th>\n",
       "      <td>Health Care</td>\n",
       "      <td>Life Sciences Tools &amp; Services</td>\n",
       "      <td>0.081302</td>\n",
       "      <td>0.113141</td>\n",
       "      <td>0.760785</td>\n",
       "    </tr>\n",
       "    <tr>\n",
       "      <th>CXO</th>\n",
       "      <td>Energy</td>\n",
       "      <td>Oil &amp; Gas Exploration &amp; Production</td>\n",
       "      <td>0.159914</td>\n",
       "      <td>0.222416</td>\n",
       "      <td>2.947066</td>\n",
       "    </tr>\n",
       "    <tr>\n",
       "      <th>FANG</th>\n",
       "      <td>Energy</td>\n",
       "      <td>Oil &amp; Gas Exploration &amp; Production</td>\n",
       "      <td>0.228252</td>\n",
       "      <td>0.405389</td>\n",
       "      <td>1.354828</td>\n",
       "    </tr>\n",
       "    <tr>\n",
       "      <th>KIM</th>\n",
       "      <td>Real Estate</td>\n",
       "      <td>Retail REITs</td>\n",
       "      <td>0.491775</td>\n",
       "      <td>1.111741</td>\n",
       "      <td>0.838127</td>\n",
       "    </tr>\n",
       "    <tr>\n",
       "      <th>NLOK</th>\n",
       "      <td>Information Technology</td>\n",
       "      <td>Application Software</td>\n",
       "      <td>0.558759</td>\n",
       "      <td>432.200000</td>\n",
       "      <td>1.317961</td>\n",
       "    </tr>\n",
       "    <tr>\n",
       "      <th>NCLH</th>\n",
       "      <td>Consumer Discretionary</td>\n",
       "      <td>Hotels, Resorts &amp; Cruise Lines</td>\n",
       "      <td>0.407663</td>\n",
       "      <td>1.043912</td>\n",
       "      <td>1.145890</td>\n",
       "    </tr>\n",
       "    <tr>\n",
       "      <th>RCL</th>\n",
       "      <td>Consumer Discretionary</td>\n",
       "      <td>Hotels, Resorts &amp; Cruise Lines</td>\n",
       "      <td>0.386985</td>\n",
       "      <td>0.964620</td>\n",
       "      <td>0.886044</td>\n",
       "    </tr>\n",
       "  </tbody>\n",
       "</table>\n",
       "</div>"
      ],
      "text/plain": [
       "                   GICS Sector                   GICS Sub-Industry  \\\n",
       "Symbol                                                               \n",
       "ALGN               Health Care                Health Care Supplies   \n",
       "APA                     Energy  Oil & Gas Exploration & Production   \n",
       "BIO                Health Care      Life Sciences Tools & Services   \n",
       "CXO                     Energy  Oil & Gas Exploration & Production   \n",
       "FANG                    Energy  Oil & Gas Exploration & Production   \n",
       "KIM                Real Estate                        Retail REITs   \n",
       "NLOK    Information Technology                Application Software   \n",
       "NCLH    Consumer Discretionary      Hotels, Resorts & Cruise Lines   \n",
       "RCL     Consumer Discretionary      Hotels, Resorts & Cruise Lines   \n",
       "\n",
       "        debt_to_assets  debt_to_equity  profit_margin  \n",
       "Symbol                                                 \n",
       "ALGN          0.023673        0.043977       0.759949  \n",
       "APA           0.482410        2.683564       1.630111  \n",
       "BIO           0.081302        0.113141       0.760785  \n",
       "CXO           0.159914        0.222416       2.947066  \n",
       "FANG          0.228252        0.405389       1.354828  \n",
       "KIM           0.491775        1.111741       0.838127  \n",
       "NLOK          0.558759      432.200000       1.317961  \n",
       "NCLH          0.407663        1.043912       1.145890  \n",
       "RCL           0.386985        0.964620       0.886044  "
      ]
     },
     "execution_count": 100,
     "metadata": {},
     "output_type": "execute_result"
    }
   ],
   "source": [
    "company_details[company_details['profit_margin'] > 0.75]"
   ]
  },
  {
   "cell_type": "code",
   "execution_count": 101,
   "metadata": {},
   "outputs": [
    {
     "data": {
      "text/plain": [
       "(495, 5)"
      ]
     },
     "execution_count": 101,
     "metadata": {},
     "output_type": "execute_result"
    }
   ],
   "source": [
    "company_details.shape"
   ]
  },
  {
   "cell_type": "markdown",
   "metadata": {},
   "source": [
    "#### Nothing out of the ordinary. Leave data as is."
   ]
  },
  {
   "cell_type": "markdown",
   "metadata": {},
   "source": [
    "### "
   ]
  },
  {
   "cell_type": "markdown",
   "metadata": {},
   "source": [
    "### Company returns"
   ]
  },
  {
   "cell_type": "code",
   "execution_count": 124,
   "metadata": {},
   "outputs": [],
   "source": [
    "temp = pd.DataFrame(company_returns.isnull().sum())"
   ]
  },
  {
   "cell_type": "code",
   "execution_count": 125,
   "metadata": {},
   "outputs": [
    {
     "data": {
      "text/html": [
       "<div>\n",
       "<style scoped>\n",
       "    .dataframe tbody tr th:only-of-type {\n",
       "        vertical-align: middle;\n",
       "    }\n",
       "\n",
       "    .dataframe tbody tr th {\n",
       "        vertical-align: top;\n",
       "    }\n",
       "\n",
       "    .dataframe thead th {\n",
       "        text-align: right;\n",
       "    }\n",
       "</style>\n",
       "<table border=\"1\" class=\"dataframe\">\n",
       "  <thead>\n",
       "    <tr style=\"text-align: right;\">\n",
       "      <th></th>\n",
       "      <th>0</th>\n",
       "    </tr>\n",
       "  </thead>\n",
       "  <tbody>\n",
       "    <tr>\n",
       "      <th>AMCR</th>\n",
       "      <td>754</td>\n",
       "    </tr>\n",
       "    <tr>\n",
       "      <th>BKR</th>\n",
       "      <td>379</td>\n",
       "    </tr>\n",
       "    <tr>\n",
       "      <th>CBRE</th>\n",
       "      <td>556</td>\n",
       "    </tr>\n",
       "    <tr>\n",
       "      <th>CTVA</th>\n",
       "      <td>754</td>\n",
       "    </tr>\n",
       "    <tr>\n",
       "      <th>DOW</th>\n",
       "      <td>754</td>\n",
       "    </tr>\n",
       "    <tr>\n",
       "      <th>DD</th>\n",
       "      <td>754</td>\n",
       "    </tr>\n",
       "    <tr>\n",
       "      <th>DXC</th>\n",
       "      <td>273</td>\n",
       "    </tr>\n",
       "    <tr>\n",
       "      <th>EVRG</th>\n",
       "      <td>609</td>\n",
       "    </tr>\n",
       "    <tr>\n",
       "      <th>FTV</th>\n",
       "      <td>126</td>\n",
       "    </tr>\n",
       "    <tr>\n",
       "      <th>FOXA</th>\n",
       "      <td>754</td>\n",
       "    </tr>\n",
       "    <tr>\n",
       "      <th>FOX</th>\n",
       "      <td>754</td>\n",
       "    </tr>\n",
       "    <tr>\n",
       "      <th>IR</th>\n",
       "      <td>343</td>\n",
       "    </tr>\n",
       "    <tr>\n",
       "      <th>LW</th>\n",
       "      <td>218</td>\n",
       "    </tr>\n",
       "    <tr>\n",
       "      <th>LIN</th>\n",
       "      <td>692</td>\n",
       "    </tr>\n",
       "  </tbody>\n",
       "</table>\n",
       "</div>"
      ],
      "text/plain": [
       "        0\n",
       "AMCR  754\n",
       "BKR   379\n",
       "CBRE  556\n",
       "CTVA  754\n",
       "DOW   754\n",
       "DD    754\n",
       "DXC   273\n",
       "EVRG  609\n",
       "FTV   126\n",
       "FOXA  754\n",
       "FOX   754\n",
       "IR    343\n",
       "LW    218\n",
       "LIN   692"
      ]
     },
     "execution_count": 125,
     "metadata": {},
     "output_type": "execute_result"
    }
   ],
   "source": [
    "temp[temp[0] > 0]"
   ]
  },
  {
   "cell_type": "markdown",
   "metadata": {},
   "source": [
    "### "
   ]
  },
  {
   "cell_type": "markdown",
   "metadata": {},
   "source": [
    "#### Two companies with a small number of missing data: WLTW and UA. Fill with zero."
   ]
  },
  {
   "cell_type": "code",
   "execution_count": 123,
   "metadata": {},
   "outputs": [],
   "source": [
    "company_returns['WLTW'].fillna(0, inplace = True)"
   ]
  },
  {
   "cell_type": "code",
   "execution_count": null,
   "metadata": {},
   "outputs": [],
   "source": [
    "company_returns['UA'].fillna(0, inplace = True)"
   ]
  },
  {
   "cell_type": "markdown",
   "metadata": {},
   "source": [
    "### "
   ]
  },
  {
   "cell_type": "markdown",
   "metadata": {},
   "source": [
    "#### Drop companies that are missing data from 2016 - 2018"
   ]
  },
  {
   "cell_type": "code",
   "execution_count": 126,
   "metadata": {},
   "outputs": [],
   "source": [
    "temp = pd.DataFrame(company_returns.isnull().sum())"
   ]
  },
  {
   "cell_type": "code",
   "execution_count": 127,
   "metadata": {},
   "outputs": [
    {
     "data": {
      "text/html": [
       "<div>\n",
       "<style scoped>\n",
       "    .dataframe tbody tr th:only-of-type {\n",
       "        vertical-align: middle;\n",
       "    }\n",
       "\n",
       "    .dataframe tbody tr th {\n",
       "        vertical-align: top;\n",
       "    }\n",
       "\n",
       "    .dataframe thead th {\n",
       "        text-align: right;\n",
       "    }\n",
       "</style>\n",
       "<table border=\"1\" class=\"dataframe\">\n",
       "  <thead>\n",
       "    <tr style=\"text-align: right;\">\n",
       "      <th></th>\n",
       "      <th>0</th>\n",
       "    </tr>\n",
       "  </thead>\n",
       "  <tbody>\n",
       "    <tr>\n",
       "      <th>AMCR</th>\n",
       "      <td>754</td>\n",
       "    </tr>\n",
       "    <tr>\n",
       "      <th>BKR</th>\n",
       "      <td>379</td>\n",
       "    </tr>\n",
       "    <tr>\n",
       "      <th>CBRE</th>\n",
       "      <td>556</td>\n",
       "    </tr>\n",
       "    <tr>\n",
       "      <th>CTVA</th>\n",
       "      <td>754</td>\n",
       "    </tr>\n",
       "    <tr>\n",
       "      <th>DOW</th>\n",
       "      <td>754</td>\n",
       "    </tr>\n",
       "    <tr>\n",
       "      <th>DD</th>\n",
       "      <td>754</td>\n",
       "    </tr>\n",
       "    <tr>\n",
       "      <th>DXC</th>\n",
       "      <td>273</td>\n",
       "    </tr>\n",
       "    <tr>\n",
       "      <th>EVRG</th>\n",
       "      <td>609</td>\n",
       "    </tr>\n",
       "    <tr>\n",
       "      <th>FTV</th>\n",
       "      <td>126</td>\n",
       "    </tr>\n",
       "    <tr>\n",
       "      <th>FOXA</th>\n",
       "      <td>754</td>\n",
       "    </tr>\n",
       "    <tr>\n",
       "      <th>FOX</th>\n",
       "      <td>754</td>\n",
       "    </tr>\n",
       "    <tr>\n",
       "      <th>IR</th>\n",
       "      <td>343</td>\n",
       "    </tr>\n",
       "    <tr>\n",
       "      <th>LW</th>\n",
       "      <td>218</td>\n",
       "    </tr>\n",
       "    <tr>\n",
       "      <th>LIN</th>\n",
       "      <td>692</td>\n",
       "    </tr>\n",
       "  </tbody>\n",
       "</table>\n",
       "</div>"
      ],
      "text/plain": [
       "        0\n",
       "AMCR  754\n",
       "BKR   379\n",
       "CBRE  556\n",
       "CTVA  754\n",
       "DOW   754\n",
       "DD    754\n",
       "DXC   273\n",
       "EVRG  609\n",
       "FTV   126\n",
       "FOXA  754\n",
       "FOX   754\n",
       "IR    343\n",
       "LW    218\n",
       "LIN   692"
      ]
     },
     "execution_count": 127,
     "metadata": {},
     "output_type": "execute_result"
    }
   ],
   "source": [
    "temp[temp[0] > 0]"
   ]
  },
  {
   "cell_type": "code",
   "execution_count": 128,
   "metadata": {},
   "outputs": [
    {
     "data": {
      "text/plain": [
       "Index(['AMCR', 'BKR', 'CBRE', 'CTVA', 'DOW', 'DD', 'DXC', 'EVRG', 'FTV',\n",
       "       'FOXA', 'FOX', 'IR', 'LW', 'LIN'],\n",
       "      dtype='object')"
      ]
     },
     "execution_count": 128,
     "metadata": {},
     "output_type": "execute_result"
    }
   ],
   "source": [
    "temp[temp[0] > 0].index"
   ]
  },
  {
   "cell_type": "code",
   "execution_count": 130,
   "metadata": {},
   "outputs": [
    {
     "name": "stderr",
     "output_type": "stream",
     "text": [
      "/Users/jimisi/opt/anaconda3/lib/python3.8/site-packages/pandas/core/frame.py:4167: SettingWithCopyWarning: \n",
      "A value is trying to be set on a copy of a slice from a DataFrame\n",
      "\n",
      "See the caveats in the documentation: https://pandas.pydata.org/pandas-docs/stable/user_guide/indexing.html#returning-a-view-versus-a-copy\n",
      "  return super().drop(\n"
     ]
    }
   ],
   "source": [
    "company_returns.drop(temp[temp[0] > 0].index, axis = 1, inplace = True)"
   ]
  },
  {
   "cell_type": "code",
   "execution_count": 131,
   "metadata": {},
   "outputs": [
    {
     "data": {
      "text/plain": [
       "(754, 487)"
      ]
     },
     "execution_count": 131,
     "metadata": {},
     "output_type": "execute_result"
    }
   ],
   "source": [
    "company_returns.shape"
   ]
  },
  {
   "cell_type": "code",
   "execution_count": 137,
   "metadata": {},
   "outputs": [
    {
     "data": {
      "image/png": "[encoded data removed]",
      "text/plain": [
       "<Figure size 432x288 with 1 Axes>"
      ]
     },
     "metadata": {
      "needs_background": "light"
     },
     "output_type": "display_data"
    }
   ],
   "source": [
    "sns.lineplot(data = company_returns, legend = False)\n",
    "plt.show()"
   ]
  },
  {
   "cell_type": "code",
   "execution_count": 138,
   "metadata": {},
   "outputs": [
    {
     "data": {
      "text/plain": [
       "(495, 5)"
      ]
     },
     "execution_count": 138,
     "metadata": {},
     "output_type": "execute_result"
    }
   ],
   "source": [
    "company_details.shape"
   ]
  },
  {
   "cell_type": "code",
   "execution_count": 139,
   "metadata": {},
   "outputs": [
    {
     "data": {
      "text/plain": [
       "(754, 487)"
      ]
     },
     "execution_count": 139,
     "metadata": {},
     "output_type": "execute_result"
    }
   ],
   "source": [
    "company_returns.shape"
   ]
  },
  {
   "cell_type": "markdown",
   "metadata": {},
   "source": [
    "### "
   ]
  },
  {
   "cell_type": "markdown",
   "metadata": {},
   "source": [
    "## Save results to CSV"
   ]
  },
  {
   "cell_type": "code",
   "execution_count": 140,
   "metadata": {},
   "outputs": [],
   "source": [
    "company_details.to_csv('company_details.csv')\n",
    "company_returns.to_csv('company_returns.csv')"
   ]
  },
  {
   "cell_type": "code",
   "execution_count": 142,
   "metadata": {},
   "outputs": [
    {
     "data": {
      "text/plain": [
       "0"
      ]
     },
     "execution_count": 142,
     "metadata": {},
     "output_type": "execute_result"
    }
   ],
   "source": [
    "company_details.isnull().sum().sum()"
   ]
  },
  {
   "cell_type": "markdown",
   "metadata": {},
   "source": [
    "### "
   ]
  },
  {
   "cell_type": "markdown",
   "metadata": {},
   "source": [
    "## Isolate returns in 2019 for use in a trading example"
   ]
  },
  {
   "cell_type": "code",
   "execution_count": 148,
   "metadata": {},
   "outputs": [],
   "source": [
    "company_returns_2019 = company_returns_all.loc['2019-01-02':'2019-12-31']\n",
    "company_returns_2019.to_csv('company_returns_2019.csv')"
   ]
  },
  {
   "cell_type": "code",
   "execution_count": 149,
   "metadata": {},
   "outputs": [],
   "source": [
    "company_prices.to_csv('company_prices_all.csv')"
   ]
  }
 ],
 "metadata": {
  "kernelspec": {
   "display_name": "Python 3",
   "language": "python",
   "name": "python3"
  },
  "language_info": {
   "codemirror_mode": {
    "name": "ipython",
    "version": 3
   },
   "file_extension": ".py",
   "mimetype": "text/x-python",
   "name": "python",
   "nbconvert_exporter": "python",
   "pygments_lexer": "ipython3",
   "version": "3.8.3"
  }
 },
 "nbformat": 4,
 "nbformat_minor": 4
}
